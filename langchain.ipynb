{
 "cells": [
  {
   "cell_type": "code",
   "execution_count": 1,
   "metadata": {},
   "outputs": [
    {
     "data": {
      "text/plain": [
       "True"
      ]
     },
     "execution_count": 1,
     "metadata": {},
     "output_type": "execute_result"
    }
   ],
   "source": [
    "from langchain.document_loaders import  UnstructuredURLLoader\n",
    "from langchain.text_splitter import RecursiveCharacterTextSplitter\n",
    "from dotenv import load_dotenv\n",
    "from langchain_groq import ChatGroq\n",
    "from langchain_huggingface import HuggingFaceEmbeddings\n",
    "from pymilvus import MilvusClient, DataType, Collection, connections\n",
    "from langchain.chains import RetrievalQAWithSourcesChain\n",
    "import langchain\n",
    "from langchain.prompts import PromptTemplate\n",
    "from langchain_milvus import Milvus\n",
    "load_dotenv()"
   ]
  },
  {
   "cell_type": "code",
   "execution_count": 2,
   "metadata": {},
   "outputs": [],
   "source": [
    "llm = ChatGroq(\n",
    "    model=\"llama3-70b-8192\",\n",
    "    temperature=0.6\n",
    "    )"
   ]
  },
  {
   "cell_type": "code",
   "execution_count": 9,
   "metadata": {},
   "outputs": [],
   "source": [
    "urls=[\n",
    "    \"https://www.moneycontrol.com/news/business/tata-motors-mahindra-gain-certificates-for-production-linked-payouts-11281691.html\",\n",
    "    \"https://www.moneycontrol.com/news/business/tata-motors-launches-punch-icng-price-starts-at-rs-7-1-lakh-11098751.html\",\n",
    "    \"https://www.moneycontrol.com/news/business/stocks/buy-tata-motors-target-of-rs-743-kr-choksey-11080811.html\"\n",
    "]\n",
    "loader = UnstructuredURLLoader(urls=urls)"
   ]
  },
  {
   "cell_type": "code",
   "execution_count": 10,
   "metadata": {},
   "outputs": [
    {
     "data": {
      "text/plain": [
       "3"
      ]
     },
     "execution_count": 10,
     "metadata": {},
     "output_type": "execute_result"
    }
   ],
   "source": [
    "data = loader.load()\n",
    "len(data)"
   ]
  },
  {
   "cell_type": "code",
   "execution_count": 5,
   "metadata": {},
   "outputs": [],
   "source": [
    "splitter = RecursiveCharacterTextSplitter(\n",
    "    separators=['\\n\\n','\\n',' '],\n",
    "    chunk_size=300,\n",
    "    chunk_overlap=30\n",
    ")\n",
    "chunks = splitter.split_documents(data)"
   ]
  },
  {
   "cell_type": "code",
   "execution_count": 20,
   "metadata": {},
   "outputs": [
    {
     "data": {
      "text/plain": [
       "'According to the passage, the government expects 23 more firms to apply for certification by the end of September, in addition to the 6 companies that have already applied (including Tata Motors and Mahindra). Therefore, the total number of firms that will apply for certification is 29.'"
      ]
     },
     "execution_count": 20,
     "metadata": {},
     "output_type": "execute_result"
    }
   ],
   "source": [
    "messages = [\n",
    "    (\n",
    "        \"system\",\n",
    "        f\"{data[0].page_content}\",\n",
    "    ),\n",
    "    (\"human\", \"Read this passage and answer my question:\\nWhat are the number of firms that will apply for certification?\"),\n",
    "]\n",
    "ai_msg = llm.invoke(messages)\n",
    "ai_msg.content"
   ]
  },
  {
   "cell_type": "code",
   "execution_count": 3,
   "metadata": {},
   "outputs": [
    {
     "name": "stderr",
     "output_type": "stream",
     "text": [
      "/home/arnab/Downloads/Equity-Research/genai-EqR/lib/python3.12/site-packages/sentence_transformers/cross_encoder/CrossEncoder.py:13: TqdmWarning: IProgress not found. Please update jupyter and ipywidgets. See https://ipywidgets.readthedocs.io/en/stable/user_install.html\n",
      "  from tqdm.autonotebook import tqdm, trange\n"
     ]
    }
   ],
   "source": [
    "encoder = HuggingFaceEmbeddings(model_name=\"all-MiniLM-L12-v2\")"
   ]
  },
  {
   "cell_type": "code",
   "execution_count": 10,
   "metadata": {},
   "outputs": [
    {
     "data": {
      "text/plain": [
       "(69, 384)"
      ]
     },
     "execution_count": 10,
     "metadata": {},
     "output_type": "execute_result"
    }
   ],
   "source": [
    "vectors = encoder.embed_documents([chunk.page_content for chunk in chunks],)\n",
    "len(vectors),len(vectors[0])"
   ]
  },
  {
   "cell_type": "code",
   "execution_count": 11,
   "metadata": {},
   "outputs": [],
   "source": [
    "client = MilvusClient(\n",
    "    uri=\"http://localhost:19530\"\n",
    ")\n"
   ]
  },
  {
   "cell_type": "code",
   "execution_count": 22,
   "metadata": {},
   "outputs": [],
   "source": [
    "schema = MilvusClient.create_schema(\n",
    "    auto_id=False,\n",
    "    enable_dynamic_field=True,\n",
    ")\n"
   ]
  },
  {
   "cell_type": "code",
   "execution_count": null,
   "metadata": {},
   "outputs": [],
   "source": []
  },
  {
   "cell_type": "code",
   "execution_count": 23,
   "metadata": {},
   "outputs": [
    {
     "data": {
      "text/plain": [
       "{'auto_id': False, 'description': '', 'fields': [{'name': 'id', 'description': '', 'type': <DataType.INT64: 5>, 'is_primary': True, 'auto_id': False}, {'name': 'source_id', 'description': '', 'type': <DataType.INT16: 3>}, {'name': 'vector', 'description': '', 'type': <DataType.FLOAT_VECTOR: 101>, 'params': {'dim': 384}}], 'enable_dynamic_field': True}"
      ]
     },
     "execution_count": 23,
     "metadata": {},
     "output_type": "execute_result"
    }
   ],
   "source": [
    "schema.add_field(field_name=\"id\", datatype=DataType.INT64, is_primary=True)\n",
    "schema.add_field(field_name=\"source_id\",datatype=DataType.INT16)\n",
    "schema.add_field(field_name=\"vector\", datatype=DataType.FLOAT_VECTOR, dim=len(vectors[0]))\n"
   ]
  },
  {
   "cell_type": "code",
   "execution_count": 24,
   "metadata": {},
   "outputs": [],
   "source": [
    "client.create_collection(\n",
    "    collection_name=\"finance_articles\", \n",
    "    schema=schema, \n",
    ")"
   ]
  },
  {
   "cell_type": "code",
   "execution_count": 25,
   "metadata": {},
   "outputs": [],
   "source": [
    "index_params = MilvusClient.prepare_index_params()\n",
    "index_params.add_index(\n",
    "    field_name=\"vector\",\n",
    "    metric_type=\"COSINE\",\n",
    "    index_type=\"FLAT\",\n",
    "    index_name=\"article_vectors\"\n",
    ")\n"
   ]
  },
  {
   "cell_type": "code",
   "execution_count": 26,
   "metadata": {},
   "outputs": [],
   "source": [
    "client.create_index(\n",
    "    collection_name=\"finance_articles\",\n",
    "    index_params=index_params,\n",
    "    sync=False # Whether to wait for index creation to complete before returning. Defaults to True.\n",
    ")\n",
    "\n"
   ]
  },
  {
   "cell_type": "code",
   "execution_count": 28,
   "metadata": {},
   "outputs": [
    {
     "name": "stdout",
     "output_type": "stream",
     "text": [
      "{'index_type': 'FLAT', 'metric_type': 'COSINE', 'field_name': 'vector', 'index_name': 'article_vectors', 'total_rows': 0, 'indexed_rows': 0, 'pending_index_rows': 0, 'state': 'Finished'}\n"
     ]
    }
   ],
   "source": [
    "res = client.describe_index(\n",
    "    collection_name=\"finance_articles\",\n",
    "    index_name=\"article_vectors\"\n",
    ")\n",
    "print(res)\n"
   ]
  },
  {
   "cell_type": "code",
   "execution_count": 29,
   "metadata": {},
   "outputs": [],
   "source": [
    "source_url_map = {i:urls[i] for i in range(len(urls))}\n",
    "url_source_map = {v:k for k,v in source_url_map.items()}"
   ]
  },
  {
   "cell_type": "code",
   "execution_count": 30,
   "metadata": {},
   "outputs": [],
   "source": [
    "vector_data = []\n",
    "for i in range(len(vectors)):\n",
    "    vector_data.append({'id':i,\n",
    "                        'source_id':url_source_map[chunks[i].metadata['source']],\n",
    "                        'vector':vectors[i]})"
   ]
  },
  {
   "cell_type": "code",
   "execution_count": 31,
   "metadata": {},
   "outputs": [],
   "source": [
    "res = client.insert(\n",
    "    collection_name=\"finance_articles\",\n",
    "    data=vector_data\n",
    ")\n",
    "\n"
   ]
  },
  {
   "cell_type": "code",
   "execution_count": 11,
   "metadata": {},
   "outputs": [],
   "source": [
    "question = \"What are the number of firms that will apply for certification by the end of September ?\"\n",
    "query = encoder.embed_query(question)"
   ]
  },
  {
   "cell_type": "code",
   "execution_count": 35,
   "metadata": {},
   "outputs": [],
   "source": [
    "client.load_collection(\"finance_articles\")"
   ]
  },
  {
   "cell_type": "code",
   "execution_count": 37,
   "metadata": {},
   "outputs": [],
   "source": [
    "res = client.search(\n",
    "    collection_name=\"finance_articles\", # Replace with the actual name of your collection\n",
    "    # Replace with your query vector\n",
    "    data=[query],\n",
    "    limit=5, # Max. number of search results to return\n",
    "    search_params={\"metric_type\": \"COSINE\", \"params\": {}}, # Search parameters\n",
    "    output_fields=['source_id']\n",
    ")\n"
   ]
  },
  {
   "cell_type": "code",
   "execution_count": 41,
   "metadata": {},
   "outputs": [
    {
     "data": {
      "text/plain": [
       "[{'id': 9, 'distance': 0.7440287470817566, 'entity': {'source_id': 0}},\n",
       " {'id': 4, 'distance': 0.43733227252960205, 'entity': {'source_id': 0}},\n",
       " {'id': 7, 'distance': 0.42282533645629883, 'entity': {'source_id': 0}},\n",
       " {'id': 5, 'distance': 0.39404892921447754, 'entity': {'source_id': 0}},\n",
       " {'id': 8, 'distance': 0.3491817116737366, 'entity': {'source_id': 0}}]"
      ]
     },
     "execution_count": 41,
     "metadata": {},
     "output_type": "execute_result"
    }
   ],
   "source": [
    "res[0]"
   ]
  },
  {
   "cell_type": "code",
   "execution_count": 15,
   "metadata": {},
   "outputs": [],
   "source": [
    "connections.connect(\n",
    "  alias=\"default\", \n",
    "  host='localhost', \n",
    "  port='19530'\n",
    ")"
   ]
  },
  {
   "cell_type": "code",
   "execution_count": 16,
   "metadata": {},
   "outputs": [
    {
     "data": {
      "text/plain": [
       "69"
      ]
     },
     "execution_count": 16,
     "metadata": {},
     "output_type": "execute_result"
    }
   ],
   "source": [
    "total_records = Collection(\"finance_articles\").num_entities\n",
    "total_records"
   ]
  },
  {
   "cell_type": "code",
   "execution_count": 4,
   "metadata": {},
   "outputs": [],
   "source": [
    "index_params = {\n",
    "    \"index_type\": 'IVF_FLAT',\n",
    "    \"params\": {\"nlist\": 128},\n",
    "    \"metric_type\": \"COSINE\"\n",
    "}"
   ]
  },
  {
   "cell_type": "code",
   "execution_count": 5,
   "metadata": {},
   "outputs": [],
   "source": [
    "vector_store = Milvus(\n",
    "    embedding_function=encoder,\n",
    "    collection_name=\"finance_articles\",\n",
    "    auto_id=True,\n",
    "    index_params=index_params\n",
    ")"
   ]
  },
  {
   "cell_type": "code",
   "execution_count": 63,
   "metadata": {},
   "outputs": [
    {
     "data": {
      "text/plain": [
       "[453178359009251338,\n",
       " 453178359009251339,\n",
       " 453178359009251340,\n",
       " 453178359009251341,\n",
       " 453178359009251342,\n",
       " 453178359009251343,\n",
       " 453178359009251344,\n",
       " 453178359009251345,\n",
       " 453178359009251346,\n",
       " 453178359009251347,\n",
       " 453178359009251348,\n",
       " 453178359009251349,\n",
       " 453178359009251350,\n",
       " 453178359009251351,\n",
       " 453178359009251352,\n",
       " 453178359009251353,\n",
       " 453178359009251354,\n",
       " 453178359009251355,\n",
       " 453178359009251356,\n",
       " 453178359009251357,\n",
       " 453178359009251358,\n",
       " 453178359009251359,\n",
       " 453178359009251360,\n",
       " 453178359009251361,\n",
       " 453178359009251362,\n",
       " 453178359009251363,\n",
       " 453178359009251364,\n",
       " 453178359009251365,\n",
       " 453178359009251366,\n",
       " 453178359009251367,\n",
       " 453178359009251368,\n",
       " 453178359009251369,\n",
       " 453178359009251370,\n",
       " 453178359009251371,\n",
       " 453178359009251372,\n",
       " 453178359009251373,\n",
       " 453178359009251374,\n",
       " 453178359009251375,\n",
       " 453178359009251376,\n",
       " 453178359009251377,\n",
       " 453178359009251378,\n",
       " 453178359009251379,\n",
       " 453178359009251380,\n",
       " 453178359009251381,\n",
       " 453178359009251382,\n",
       " 453178359009251383,\n",
       " 453178359009251384,\n",
       " 453178359009251385,\n",
       " 453178359009251386,\n",
       " 453178359009251387,\n",
       " 453178359009251388,\n",
       " 453178359009251389,\n",
       " 453178359009251390,\n",
       " 453178359009251391,\n",
       " 453178359009251392,\n",
       " 453178359009251393,\n",
       " 453178359009251394,\n",
       " 453178359009251395,\n",
       " 453178359009251396,\n",
       " 453178359009251397,\n",
       " 453178359009251398,\n",
       " 453178359009251399,\n",
       " 453178359009251400,\n",
       " 453178359009251401,\n",
       " 453178359009251402,\n",
       " 453178359009251403,\n",
       " 453178359009251404,\n",
       " 453178359009251405,\n",
       " 453178359009251406]"
      ]
     },
     "execution_count": 63,
     "metadata": {},
     "output_type": "execute_result"
    }
   ],
   "source": [
    "vector_store.add_documents(chunks)"
   ]
  },
  {
   "cell_type": "code",
   "execution_count": 11,
   "metadata": {},
   "outputs": [
    {
     "data": {
      "text/plain": [
       "[Document(metadata={'source': 'https://www.moneycontrol.com/news/business/tata-motors-launches-punch-icng-price-starts-at-rs-7-1-lakh-11098751.html', 'pk': 453178359009251375}, page_content='Forum\\n\\nMC 30\\n\\nNews\\n\\nBusiness\\n\\nMarkets\\n\\nStocks\\n\\nIncome Tax Calculator\\n\\nElection Schedule 2024\\n\\nIndia News\\n\\nEconomy\\n\\nMutual Funds\\n\\nPersonal Finance\\n\\nIPO News\\n\\nStartups\\n\\nStocks: A | B | C | D | E | F | G | H | I | J | K | L | M | N | O | P | Q | R | S | T | U | V | W | X | Y | Z | Others'),\n",
       " Document(metadata={'source': 'https://www.moneycontrol.com/news/business/tata-motors-launches-punch-icng-price-starts-at-rs-7-1-lakh-11098751.html', 'pk': 453178359009251379}, page_content='Overdrive\\n\\nTopper Learning\\n\\nAbout us | Contact Us | Advisory Alert | Advertise with Us | Support | Disclaimer | Privacy Policy | Cookie Policy | Terms & Conditions | Careers | Financial Terms (Glossary) | FAQs | Sitemap | RSS Feed | Investors'),\n",
       " Document(metadata={'source': 'https://www.moneycontrol.com/news/business/tata-motors-launches-punch-icng-price-starts-at-rs-7-1-lakh-11098751.html', 'pk': 453178359009251378}, page_content='Clear Study Doubts\\n\\nEducation Franchisee Opportunity\\n\\nSpecials\\n\\nMaster Your Money\\n\\nGame Changers\\n\\nInvestment Watch\\n\\nPowerYourTrade\\n\\nFocus\\n\\nSME Step Up\\n\\nNetwork 18 Sites\\n\\nNews18\\n\\nFirstpost\\n\\nCNBC TV18\\n\\nNews18 Hindi\\n\\nCricketnext\\n\\nOverdrive\\n\\nTopper Learning'),\n",
       " Document(metadata={'source': 'https://www.moneycontrol.com/news/business/tata-motors-launches-punch-icng-price-starts-at-rs-7-1-lakh-11098751.html', 'pk': 453178359009251374}, page_content='Portfolio\\n\\nMarkets\\n\\nWatchlist\\n\\nLive TV Show\\n\\nCurrencies\\n\\nFREE Credit Score₹100 Cash Reward\\n\\nFinance Tracker\\n\\nCommodities\\n\\nFixed Deposits\\n\\nFixed Income\\n\\nPersonal Finance\\n\\nMutual Fund\\n\\nPre-Market\\n\\nIPO\\n\\nGlobal Market\\n\\nBudget 2024\\n\\nElections 2024\\n\\nGold Rate\\n\\nBSE Sensex\\n\\nForum\\n\\nMC 30\\n\\nNews\\n\\nBusiness')]"
      ]
     },
     "execution_count": 11,
     "metadata": {},
     "output_type": "execute_result"
    }
   ],
   "source": [
    "question = \"What are the total number of firms that will apply for certification by the end September?\"\n",
    "vector_store.similarity_search(question,k=4,expr=f\"source in {urls[1:2]}\")"
   ]
  },
  {
   "cell_type": "code",
   "execution_count": 35,
   "metadata": {},
   "outputs": [],
   "source": [
    "PROMPT_TEMPLATE = \"\"\"Human: You are an AI assistant, and provides answers to questions by using fact based and statistical information when possible.\n",
    "Use the following pieces of information to provide a concise answer to the question enclosed in <question> tags and avoid using first person pronouns.\n",
    "If you don't know the answer, just say that you don't know, don't try to make up an answer or just say you cannot find it if it is really not present there.\n",
    "<context>\n",
    "{summaries}\n",
    "</context>\n",
    "\n",
    "<question>\n",
    "{question}\n",
    "</question>\n",
    "\n",
    "The response should be specific and use statistics or numbers when possible.\n",
    "\n",
    "Assistant:\n",
    "\"\"\"\n",
    "prompt = PromptTemplate(\n",
    "    template=PROMPT_TEMPLATE, input_variables=[\"summaries\", \"question\"]\n",
    ")"
   ]
  },
  {
   "cell_type": "code",
   "execution_count": 36,
   "metadata": {},
   "outputs": [],
   "source": [
    "chain = RetrievalQAWithSourcesChain.from_chain_type(llm=llm,\n",
    "                                             retriever=vector_store.as_retriever(search_kwargs={'k':2,'expr':f\"source in {urls[:2]}\"}),\n",
    "                                             chain_type=\"stuff\",\n",
    "                                             return_source_documents=True,\n",
    "                                             chain_type_kwargs={\"prompt\":prompt}\n",
    "                                             )"
   ]
  },
  {
   "cell_type": "code",
   "execution_count": 37,
   "metadata": {},
   "outputs": [
    {
     "data": {
      "text/plain": [
       "{'question': 'What are the total number of firms that will apply for certification by the end of January 2025 ?',\n",
       " 'answer': \"According to the provided context, the government expects 23 more firms to apply for the certification by the end of September 2023, in addition to the 6 firms (including Tata Motors and Mahindra) that have already applied. There is no information available to predict the number of firms that will apply by the end of January 2025. Therefore, it's not possible to provide a specific answer to this question.\",\n",
       " 'sources': '',\n",
       " 'source_documents': [Document(metadata={'source': 'https://www.moneycontrol.com/news/business/tata-motors-mahindra-gain-certificates-for-production-linked-payouts-11281691.html', 'pk': 453178359009251347}, page_content='Apart from Tata Motors and Mahindra, four other companies have applied for certification which is crucial for receiving the incentives, the government said, without naming the companies.\\n\\nThe government also said it expects 23 more firms to apply for the certification by the end of September.'),\n",
       "  Document(metadata={'source': 'https://www.moneycontrol.com/news/business/tata-motors-mahindra-gain-certificates-for-production-linked-payouts-11281691.html', 'pk': 453178359009251342}, page_content=\"Launched in 2020, India's $24 billion production-linked incentive programme covers 14 sectors, ranging from electronic products to autos, and is crucial to boosting jobs in manufacturing, an area where India has struggled.\\n\\nReuters\\n\\nAugust 30, 2023 / 11:04 IST\")]}"
      ]
     },
     "execution_count": 37,
     "metadata": {},
     "output_type": "execute_result"
    }
   ],
   "source": [
    "question = \"What are the total number of firms that will apply for certification by the end of January 2025 ?\"\n",
    "chain(question)"
   ]
  },
  {
   "cell_type": "code",
   "execution_count": 31,
   "metadata": {},
   "outputs": [],
   "source": [
    "langchain.debug=False"
   ]
  },
  {
   "cell_type": "code",
   "execution_count": null,
   "metadata": {},
   "outputs": [],
   "source": []
  }
 ],
 "metadata": {
  "kernelspec": {
   "display_name": "genai-EqR",
   "language": "python",
   "name": "python3"
  },
  "language_info": {
   "codemirror_mode": {
    "name": "ipython",
    "version": 3
   },
   "file_extension": ".py",
   "mimetype": "text/x-python",
   "name": "python",
   "nbconvert_exporter": "python",
   "pygments_lexer": "ipython3",
   "version": "3.12.3"
  }
 },
 "nbformat": 4,
 "nbformat_minor": 2
}
