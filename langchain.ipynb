{
 "cells": [
  {
   "cell_type": "code",
   "execution_count": 26,
   "metadata": {},
   "outputs": [
    {
     "data": {
      "text/plain": [
       "True"
      ]
     },
     "execution_count": 26,
     "metadata": {},
     "output_type": "execute_result"
    }
   ],
   "source": [
    "from langchain.document_loaders import  UnstructuredURLLoader\n",
    "from langchain.text_splitter import RecursiveCharacterTextSplitter\n",
    "from dotenv import load_dotenv\n",
    "from langchain_groq import ChatGroq\n",
    "from langchain_huggingface import HuggingFaceEmbeddings\n",
    "from pymilvus import MilvusClient, DataType, Collection, connections\n",
    "from langchain.chains import RetrievalQAWithSourcesChain\n",
    "import langchain\n",
    "from langchain.prompts import PromptTemplate\n",
    "from langchain_milvus import Milvus # type: ignore\n",
    "load_dotenv()"
   ]
  },
  {
   "cell_type": "code",
   "execution_count": 2,
   "metadata": {},
   "outputs": [],
   "source": [
    "llm = ChatGroq(\n",
    "    model=\"llama3-70b-8192\",\n",
    "    temperature=0.6\n",
    "    )"
   ]
  },
  {
   "cell_type": "code",
   "execution_count": 3,
   "metadata": {},
   "outputs": [],
   "source": [
    "urls=[\n",
    "    \"https://www.moneycontrol.com/news/business/tata-motors-mahindra-gain-certificates-for-production-linked-payouts-11281691.html\",\n",
    "    \"https://www.moneycontrol.com/news/business/tata-motors-launches-punch-icng-price-starts-at-rs-7-1-lakh-11098751.html\",\n",
    "    \"https://www.moneycontrol.com/news/business/stocks/buy-tata-motors-target-of-rs-743-kr-choksey-11080811.html\"\n",
    "]\n",
    "loader = UnstructuredURLLoader(urls=urls)"
   ]
  },
  {
   "cell_type": "code",
   "execution_count": 4,
   "metadata": {},
   "outputs": [
    {
     "data": {
      "text/plain": [
       "3"
      ]
     },
     "execution_count": 4,
     "metadata": {},
     "output_type": "execute_result"
    }
   ],
   "source": [
    "data = loader.load()\n",
    "len(data)"
   ]
  },
  {
   "cell_type": "code",
   "execution_count": 5,
   "metadata": {},
   "outputs": [],
   "source": [
    "splitter = RecursiveCharacterTextSplitter(\n",
    "    separators=['\\n\\n','\\n',' '],\n",
    "    chunk_size=300,\n",
    "    chunk_overlap=30\n",
    ")\n",
    "chunks = splitter.split_documents(data)"
   ]
  },
  {
   "cell_type": "code",
   "execution_count": 20,
   "metadata": {},
   "outputs": [
    {
     "data": {
      "text/plain": [
       "'According to the passage, the government expects 23 more firms to apply for certification by the end of September, in addition to the 6 companies that have already applied (including Tata Motors and Mahindra). Therefore, the total number of firms that will apply for certification is 29.'"
      ]
     },
     "execution_count": 20,
     "metadata": {},
     "output_type": "execute_result"
    }
   ],
   "source": [
    "messages = [\n",
    "    (\n",
    "        \"system\",\n",
    "        f\"{data[0].page_content}\",\n",
    "    ),\n",
    "    (\"human\", \"Read this passage and answer my question:\\nWhat are the number of firms that will apply for certification?\"),\n",
    "]\n",
    "ai_msg = llm.invoke(messages)\n",
    "ai_msg.content"
   ]
  },
  {
   "cell_type": "code",
   "execution_count": 6,
   "metadata": {},
   "outputs": [
    {
     "name": "stderr",
     "output_type": "stream",
     "text": [
      "/home/arnab/Downloads/Equity-Research/genai-EqR/lib/python3.12/site-packages/sentence_transformers/cross_encoder/CrossEncoder.py:13: TqdmWarning: IProgress not found. Please update jupyter and ipywidgets. See https://ipywidgets.readthedocs.io/en/stable/user_install.html\n",
      "  from tqdm.autonotebook import tqdm, trange\n"
     ]
    }
   ],
   "source": [
    "encoder = HuggingFaceEmbeddings(model_name=\"all-MiniLM-L12-v2\")"
   ]
  },
  {
   "cell_type": "code",
   "execution_count": 10,
   "metadata": {},
   "outputs": [
    {
     "data": {
      "text/plain": [
       "(69, 384)"
      ]
     },
     "execution_count": 10,
     "metadata": {},
     "output_type": "execute_result"
    }
   ],
   "source": [
    "vectors = encoder.embed_documents([chunk.page_content for chunk in chunks],)\n",
    "len(vectors),len(vectors[0])"
   ]
  },
  {
   "cell_type": "code",
   "execution_count": 11,
   "metadata": {},
   "outputs": [],
   "source": [
    "client = MilvusClient(\n",
    "    uri=\"http://localhost:19530\"\n",
    ")\n"
   ]
  },
  {
   "cell_type": "code",
   "execution_count": 22,
   "metadata": {},
   "outputs": [],
   "source": [
    "schema = MilvusClient.create_schema(\n",
    "    auto_id=False,\n",
    "    enable_dynamic_field=True,\n",
    ")\n"
   ]
  },
  {
   "cell_type": "code",
   "execution_count": 31,
   "metadata": {},
   "outputs": [
    {
     "data": {
      "text/plain": [
       "'Access Denied\\n\\nYou don\\'t have permission to access \"http://www.business-standard.com/companies/news/ats-homekraft-sells-340-flats-on-dwarka-expressway-gurugram-for-rs-825-cr-124101300264_1.html\" on this server.\\n\\nReference #18.d6cf5868.1728836210.45897004\\n\\nhttps://errors.edgesuite.net/18.d6cf5868.1728836210.45897004'"
      ]
     },
     "execution_count": 31,
     "metadata": {},
     "output_type": "execute_result"
    }
   ],
   "source": [
    "{\"source\":\"https://www.business-standard.com/companies/news/ats-homekraft-sells-340-flats-on-dwarka-expressway-gurugram-for-rs-825-cr-124101300264_1.html\",\"text\":\"Access Denied\\n\\nYou don't have permission to access \\\"http://www.business-standard.com/companies/news/ats-homekraft-sells-340-flats-on-dwarka-expressway-gurugram-for-rs-825-cr-124101300264_1.html\\\" on this server.\\n\\nReference #18.d6cf5868.1728836210.45897004\\n\\nhttps://errors.edgesuite.net/18.d6cf5868.1728836210.45897004\",\"pk\":\"BigInt_453134843223801872\",\"vector\":[-0.01095956,0.03666769,-0.062520355,0.055935208,0.036339186,0.008158711,-0.018924652,-0.061012056,-0.03158749,0.046843458,0.02689597,-0.065315366,0.006447088,0.00806536,0.01830609,0.06392956,0.072743714,-0.10658276,0.019678727,-0.008711872,0.031463306,-0.051888604,-0.035730507,-0.063714296,0.09013726,-0.0782858,-0.009141213,0.075466156,0.041468054,0.039571542,0.11865081,-0.046348587,-0.092184715,0.0006587549,0.036779206,0.004006465,0.039187633,-0.027124437,0.06514596,-0.017663755,0.054019623,0.028352153,0.025265068,0.05989461,0.0008404632,0.05899763,-0.009608672,-0.013629417,0.055848252,-0.076720014,-0.0005434441,0.010000166,0.017745918,-0.06650729,0.0022521815,0.017221125,-0.06672103,0.07850003,0.04838781,-0.054274116,0.082008794,-0.014116783,0.0028856432,-0.024678288,-0.037869934,-0.043895163,0.056181043,0.011493826,0.03171301,-0.073777996,-0.02982882,-0.008218034,-0.03210939,0.048228104,0.02663012,0.034386765,-0.057077754,0.05363721,0.028668333,-0.13943271,-0.042524632,0.048340026,0.09115387,0.082032554,-0.10654446,0.03840457,0.005833366,0.065328054,0.09973901,0.0595614,0.0923827,0.012445521,0.017047059,0.0019491018,0.020976933,-0.06671425,-0.044561848,-0.0128344335,-0.004234414,0.12871066,-0.0134246815,0.054411553,-0.13050383,-0.02013589,0.011658433,0.008636953,-0.030157745,0.11592352,-0.011918618,-0.024593629,0.03793838,-0.08704369,-0.021971684,0.054130994,-0.05646236,-0.014766727,-0.034646686,-0.014265521,-0.07553547,-0.018587152,-0.018473525,0.013247665,-0.04348581,-0.06496532,-0.0045287553,-0.08773447,0.060700323,0.07633917,-0.014302831,0.043479547,-0.01164571,-0.018272275,0.0071225083,-0.093359746,0.0054032584,-0.07570615,-0.0062375595,0.046435464,0.0122259045,0.013010028,-0.00610083,-0.09915335,0.046338078,0.014373985,0.09592611,-0.022116592,-0.048267305,0.08404382,0.059926186,0.029410454,0.0340493,0.048338033,-0.027293814,0.10598777,0.005735021,0.054527767,0.057474315,0.059306365,-0.0047152927,-0.019659193,0.004826869,0.020325474,0.06161949,0.03276556,0.030897066,-0.10334651,-0.05977967,-0.052039213,-0.015737316,-0.06965472,-0.08178711,-0.014507319,0.009417411,0.091316976,-0.051903784,0.010615584,0.07536175,0.011768919,-0.092615254,-0.028971802,-0.032638673,0.04341427,-0.054502517,0.024507366,-0.06034227,0.04991328,-0.047261253,0.050353825,0.016210468,-0.007747673,-0.04790996,-0.0323931,0.024417233,-0.13500187,0.031472452,-0.069282256,0.038473774,0.012657392,-0.020608969,-0.032924213,0.08476245,0.07800782,-0.05831234,0.007737499,-0.04789358,0.011139457,0.045299783,0.0151572805,-0.04186597,0.016049985,0.026848225,0.017146897,0.03273052,-0.008018203,-0.07075642,0.008180745,0.016428404,0.09174892,-0.0129279625,0.014451413,-0.058884595,0.059130747,-0.04961792,2.1105606e-32,-0.085356034,0.037617885,-0.11417552,-0.026984753,0.029296683,-0.011250329,-0.06464828,0.04795396,0.054068804,0.04916153,0.046281565,0.07937381,0.031082535,-0.070928894,0.008169115,-0.0155500015,0.026954185,-0.039152868,-0.087704904,0.05209922,-0.08115882,0.009817617,-0.041562807,0.0132688545,0.02538858,0.11930274,0.038240746,0.008486431,-0.068776116,0.014897093,0.06339566,-0.06254685,-0.07271924,0.057844862,-0.009201633,-0.008478749,0.08735302,0.029770598,-0.018100074,-0.0044608833,0.028955746,0.012768151,0.06497171,-0.050154284,-0.07754195,-0.07686859,0.019233016,-0.050106294,-0.015863784,0.049784426,0.04487038,0.018921666,0.09859019,-0.009242119,0.03229394,0.079176,0.035860993,-0.01473553,0.08067145,-0.004478083,0.01372848,-0.01953654,-0.08986976,0.06750002,-0.03242843,-0.029961016,0.031140517,-0.024804726,0.0389302,-0.052203927,-0.08204884,-0.046312574,0.008817507,-0.0722157,0.009821191,-0.047450613,0.044738524,0.04008375,0.032739345,-0.022635026,0.014830563,0.00094427477,0.03197195,-0.024463786,0.058483426,-0.0037539306,0.095870554,0.036714736,-0.0045226635,-0.01656288,-0.014169345,0.016073672,-0.08043405,0.14426266,-0.0009312453,5.439049e-32,-0.04830755,-0.08927223,-0.05820544,-0.004212035,-0.004144963,-0.09641774,0.012765675,0.012919734,-0.017692655,-0.0057494016,-0.012714328,-0.067592084,-0.10613013,0.016952945,0.010795733,-0.0391709,0.0049941395,-0.041982636,-0.009864363,-0.016544892,0.044183902,-0.032845326,0.09319307,0.015086456,-0.08049502,-0.03954226,-0.018186953,-0.023567155,0.06546053,-0.033425547,-0.040083107,0.042754043,-0.025991721,-0.06134158,-0.0005425217,0.004353175,0.04526531,-0.011504959,-0.058791526,0.090880424,-0.034669828,0.0012406817,0.08394466,0.0042951973,0.0016475355,0.011252309,0.023648534,0.06387729,0.019829597,-0.012084296,-0.020852365,-0.07989419,-0.012316114,-0.03843911,-0.007296388,0.019809108,-0.025079846,-0.06929233,-0.0603627,0.034629833,0.023353131,0.021468587,-0.01581168,0.0795329]}['text']"
   ]
  },
  {
   "cell_type": "code",
   "execution_count": 23,
   "metadata": {},
   "outputs": [
    {
     "data": {
      "text/plain": [
       "{'auto_id': False, 'description': '', 'fields': [{'name': 'id', 'description': '', 'type': <DataType.INT64: 5>, 'is_primary': True, 'auto_id': False}, {'name': 'source_id', 'description': '', 'type': <DataType.INT16: 3>}, {'name': 'vector', 'description': '', 'type': <DataType.FLOAT_VECTOR: 101>, 'params': {'dim': 384}}], 'enable_dynamic_field': True}"
      ]
     },
     "execution_count": 23,
     "metadata": {},
     "output_type": "execute_result"
    }
   ],
   "source": [
    "schema.add_field(field_name=\"id\", datatype=DataType.INT64, is_primary=True)\n",
    "schema.add_field(field_name=\"source_id\",datatype=DataType.INT16)\n",
    "schema.add_field(field_name=\"vector\", datatype=DataType.FLOAT_VECTOR, dim=len(vectors[0]))\n"
   ]
  },
  {
   "cell_type": "code",
   "execution_count": 24,
   "metadata": {},
   "outputs": [],
   "source": [
    "client.create_collection(\n",
    "    collection_name=\"finance_articles\", \n",
    "    schema=schema, \n",
    ")"
   ]
  },
  {
   "cell_type": "code",
   "execution_count": 25,
   "metadata": {},
   "outputs": [],
   "source": [
    "index_params = MilvusClient.prepare_index_params()\n",
    "index_params.add_index(\n",
    "    field_name=\"vector\",\n",
    "    metric_type=\"COSINE\",\n",
    "    index_type=\"FLAT\",\n",
    "    index_name=\"article_vectors\"\n",
    ")\n"
   ]
  },
  {
   "cell_type": "code",
   "execution_count": 26,
   "metadata": {},
   "outputs": [],
   "source": [
    "client.create_index(\n",
    "    collection_name=\"finance_articles\",\n",
    "    index_params=index_params,\n",
    "    sync=False # Whether to wait for index creation to complete before returning. Defaults to True.\n",
    ")\n",
    "\n"
   ]
  },
  {
   "cell_type": "code",
   "execution_count": 28,
   "metadata": {},
   "outputs": [
    {
     "name": "stdout",
     "output_type": "stream",
     "text": [
      "{'index_type': 'FLAT', 'metric_type': 'COSINE', 'field_name': 'vector', 'index_name': 'article_vectors', 'total_rows': 0, 'indexed_rows': 0, 'pending_index_rows': 0, 'state': 'Finished'}\n"
     ]
    }
   ],
   "source": [
    "res = client.describe_index(\n",
    "    collection_name=\"finance_articles\",\n",
    "    index_name=\"article_vectors\"\n",
    ")\n",
    "print(res)\n"
   ]
  },
  {
   "cell_type": "code",
   "execution_count": 29,
   "metadata": {},
   "outputs": [],
   "source": [
    "source_url_map = {i:urls[i] for i in range(len(urls))}\n",
    "url_source_map = {v:k for k,v in source_url_map.items()}"
   ]
  },
  {
   "cell_type": "code",
   "execution_count": 30,
   "metadata": {},
   "outputs": [],
   "source": [
    "vector_data = []\n",
    "for i in range(len(vectors)):\n",
    "    vector_data.append({'id':i,\n",
    "                        'source_id':url_source_map[chunks[i].metadata['source']],\n",
    "                        'vector':vectors[i]})"
   ]
  },
  {
   "cell_type": "code",
   "execution_count": 31,
   "metadata": {},
   "outputs": [],
   "source": [
    "res = client.insert(\n",
    "    collection_name=\"finance_articles\",\n",
    "    data=vector_data\n",
    ")\n",
    "\n"
   ]
  },
  {
   "cell_type": "code",
   "execution_count": 11,
   "metadata": {},
   "outputs": [],
   "source": [
    "question = \"What are the number of firms that will apply for certification by the end of September ?\"\n",
    "query = encoder.embed_query(question)"
   ]
  },
  {
   "cell_type": "code",
   "execution_count": 35,
   "metadata": {},
   "outputs": [],
   "source": [
    "client.load_collection(\"finance_articles\")"
   ]
  },
  {
   "cell_type": "code",
   "execution_count": 37,
   "metadata": {},
   "outputs": [],
   "source": [
    "res = client.search(\n",
    "    collection_name=\"finance_articles\", # Replace with the actual name of your collection\n",
    "    # Replace with your query vector\n",
    "    data=[query],\n",
    "    limit=5, # Max. number of search results to return\n",
    "    search_params={\"metric_type\": \"COSINE\", \"params\": {}}, # Search parameters\n",
    "    output_fields=['source_id']\n",
    ")\n"
   ]
  },
  {
   "cell_type": "code",
   "execution_count": 41,
   "metadata": {},
   "outputs": [
    {
     "data": {
      "text/plain": [
       "[{'id': 9, 'distance': 0.7440287470817566, 'entity': {'source_id': 0}},\n",
       " {'id': 4, 'distance': 0.43733227252960205, 'entity': {'source_id': 0}},\n",
       " {'id': 7, 'distance': 0.42282533645629883, 'entity': {'source_id': 0}},\n",
       " {'id': 5, 'distance': 0.39404892921447754, 'entity': {'source_id': 0}},\n",
       " {'id': 8, 'distance': 0.3491817116737366, 'entity': {'source_id': 0}}]"
      ]
     },
     "execution_count": 41,
     "metadata": {},
     "output_type": "execute_result"
    }
   ],
   "source": [
    "res[0]"
   ]
  },
  {
   "cell_type": "code",
   "execution_count": 15,
   "metadata": {},
   "outputs": [],
   "source": [
    "connections.connect(\n",
    "  alias=\"default\", \n",
    "  host='localhost', \n",
    "  port='19530'\n",
    ")"
   ]
  },
  {
   "cell_type": "code",
   "execution_count": 16,
   "metadata": {},
   "outputs": [
    {
     "data": {
      "text/plain": [
       "69"
      ]
     },
     "execution_count": 16,
     "metadata": {},
     "output_type": "execute_result"
    }
   ],
   "source": [
    "total_records = Collection(\"finance_articles\").num_entities\n",
    "total_records"
   ]
  },
  {
   "cell_type": "code",
   "execution_count": 7,
   "metadata": {},
   "outputs": [],
   "source": [
    "index_params = {\n",
    "    \"index_type\": 'IVF_FLAT',\n",
    "    \"params\": {\"nlist\": 128},\n",
    "    \"metric_type\": \"COSINE\"\n",
    "}"
   ]
  },
  {
   "cell_type": "code",
   "execution_count": 29,
   "metadata": {},
   "outputs": [],
   "source": [
    "vector_store = Milvus(\n",
    "    embedding_function=encoder,\n",
    "    collection_name=\"finance_articles\",\n",
    "    auto_id=True,\n",
    "    index_params=index_params,\n",
    "    connection_args={\"uri\":\"https://in03-a4e6155e8e44f89.serverless.gcp-us-west1.cloud.zilliz.com\",\n",
    "                     \"token\":\"0277afb5c62783882bbf2b6e32fe17a2c5111fb956fec6b338af16a58d84124a94095656ecb23192f3647f0d15a0ebc269ce904a\",\n",
    "                     \"secure\": True}\n",
    ")"
   ]
  },
  {
   "cell_type": "code",
   "execution_count": 30,
   "metadata": {},
   "outputs": [
    {
     "data": {
      "text/plain": [
       "[453134843223800233,\n",
       " 453134843223800234,\n",
       " 453134843223800235,\n",
       " 453134843223800236,\n",
       " 453134843223800237,\n",
       " 453134843223800238,\n",
       " 453134843223800239,\n",
       " 453134843223800240,\n",
       " 453134843223800241,\n",
       " 453134843223800242,\n",
       " 453134843223800243,\n",
       " 453134843223800244,\n",
       " 453134843223800245,\n",
       " 453134843223800246,\n",
       " 453134843223800247,\n",
       " 453134843223800248,\n",
       " 453134843223800249,\n",
       " 453134843223800250,\n",
       " 453134843223800251,\n",
       " 453134843223800252,\n",
       " 453134843223800253,\n",
       " 453134843223800254,\n",
       " 453134843223800255,\n",
       " 453134843223800256,\n",
       " 453134843223800257,\n",
       " 453134843223800258,\n",
       " 453134843223800259,\n",
       " 453134843223800260,\n",
       " 453134843223800261,\n",
       " 453134843223800262,\n",
       " 453134843223800263,\n",
       " 453134843223800264,\n",
       " 453134843223800265,\n",
       " 453134843223800266,\n",
       " 453134843223800267,\n",
       " 453134843223800268,\n",
       " 453134843223800269,\n",
       " 453134843223800270,\n",
       " 453134843223800271,\n",
       " 453134843223800272,\n",
       " 453134843223800273,\n",
       " 453134843223800274,\n",
       " 453134843223800275,\n",
       " 453134843223800276,\n",
       " 453134843223800277,\n",
       " 453134843223800278,\n",
       " 453134843223800279,\n",
       " 453134843223800280,\n",
       " 453134843223800281,\n",
       " 453134843223800282,\n",
       " 453134843223800283,\n",
       " 453134843223800284,\n",
       " 453134843223800285,\n",
       " 453134843223800286,\n",
       " 453134843223800287,\n",
       " 453134843223800288,\n",
       " 453134843223800289,\n",
       " 453134843223800290,\n",
       " 453134843223800291,\n",
       " 453134843223800292,\n",
       " 453134843223800293,\n",
       " 453134843223800294,\n",
       " 453134843223800295,\n",
       " 453134843223800296,\n",
       " 453134843223800297,\n",
       " 453134843223800298,\n",
       " 453134843223800299,\n",
       " 453134843223800300,\n",
       " 453134843223800301]"
      ]
     },
     "execution_count": 30,
     "metadata": {},
     "output_type": "execute_result"
    }
   ],
   "source": [
    "vector_store.add_documents(chunks)"
   ]
  },
  {
   "cell_type": "code",
   "execution_count": 22,
   "metadata": {},
   "outputs": [
    {
     "data": {
      "text/plain": [
       "[Document(metadata={'source': 'https://www.moneycontrol.com/news/business/tata-motors-launches-punch-icng-price-starts-at-rs-7-1-lakh-11098751.html', 'pk': 453134843223799707}, page_content='Forum\\n\\nMC 30\\n\\nNews\\n\\nBusiness\\n\\nMarkets\\n\\nStocks\\n\\nIncome Tax Calculator\\n\\nElection Schedule 2024\\n\\nIndia News\\n\\nEconomy\\n\\nMutual Funds\\n\\nPersonal Finance\\n\\nIPO News\\n\\nStartups\\n\\nStocks: A | B | C | D | E | F | G | H | I | J | K | L | M | N | O | P | Q | R | S | T | U | V | W | X | Y | Z | Others'),\n",
       " Document(metadata={'source': 'https://www.moneycontrol.com/news/business/tata-motors-launches-punch-icng-price-starts-at-rs-7-1-lakh-11098751.html', 'pk': 453134843223799711}, page_content='Overdrive\\n\\nTopper Learning\\n\\nAbout us | Contact Us | Advisory Alert | Advertise with Us | Support | Disclaimer | Privacy Policy | Cookie Policy | Terms & Conditions | Careers | Financial Terms (Glossary) | FAQs | Sitemap | RSS Feed | Investors'),\n",
       " Document(metadata={'source': 'https://www.moneycontrol.com/news/business/tata-motors-launches-punch-icng-price-starts-at-rs-7-1-lakh-11098751.html', 'pk': 453134843223799710}, page_content='Clear Study Doubts\\n\\nEducation Franchisee Opportunity\\n\\nSpecials\\n\\nMaster Your Money\\n\\nGame Changers\\n\\nInvestment Watch\\n\\nPowerYourTrade\\n\\nFocus\\n\\nSME Step Up\\n\\nNetwork 18 Sites\\n\\nNews18\\n\\nFirstpost\\n\\nCNBC TV18\\n\\nNews18 Hindi\\n\\nCricketnext\\n\\nOverdrive\\n\\nTopper Learning'),\n",
       " Document(metadata={'source': 'https://www.moneycontrol.com/news/business/tata-motors-launches-punch-icng-price-starts-at-rs-7-1-lakh-11098751.html', 'pk': 453134843223799706}, page_content='Portfolio\\n\\nMarkets\\n\\nWatchlist\\n\\nLive TV Show\\n\\nCurrencies\\n\\nFREE Credit Score₹100 Cash Reward\\n\\nFinance Tracker\\n\\nCommodities\\n\\nFixed Deposits\\n\\nFixed Income\\n\\nPersonal Finance\\n\\nMutual Fund\\n\\nPre-Market\\n\\nIPO\\n\\nGlobal Market\\n\\nBudget 2024\\n\\nElections 2024\\n\\nGold Rate\\n\\nBSE Sensex\\n\\nForum\\n\\nMC 30\\n\\nNews\\n\\nBusiness')]"
      ]
     },
     "execution_count": 22,
     "metadata": {},
     "output_type": "execute_result"
    }
   ],
   "source": [
    "question = \"What are the total number of firms that will apply for certification by the end September?\"\n",
    "vector_store.similarity_search(question,k=4,expr=f\"source in {urls[1:2]}\")"
   ]
  },
  {
   "cell_type": "code",
   "execution_count": 23,
   "metadata": {},
   "outputs": [],
   "source": [
    "PROMPT_TEMPLATE = \"\"\"Human: You are an AI assistant, and provides answers to questions by using fact based and statistical information when possible.\n",
    "Use the following pieces of information to provide a concise answer to the question enclosed in <question> tags and avoid using first person pronouns.\n",
    "If you don't know the answer, just say that you don't know, don't try to make up an answer or just say you cannot find it if it is really not present there.\n",
    "<context>\n",
    "{summaries}\n",
    "</context>\n",
    "\n",
    "<question>\n",
    "{question}\n",
    "</question>\n",
    "\n",
    "The response should be specific and use statistics or numbers when possible.\n",
    "\n",
    "Assistant:\n",
    "\"\"\"\n",
    "prompt = PromptTemplate(\n",
    "    template=PROMPT_TEMPLATE, input_variables=[\"summaries\", \"question\"]\n",
    ")"
   ]
  },
  {
   "cell_type": "code",
   "execution_count": 24,
   "metadata": {},
   "outputs": [],
   "source": [
    "chain = RetrievalQAWithSourcesChain.from_chain_type(llm=llm,\n",
    "                                             retriever=vector_store.as_retriever(search_kwargs={'k':2,'expr':f\"source in {urls[:2]}\"}),\n",
    "                                             chain_type=\"stuff\",\n",
    "                                             return_source_documents=True,\n",
    "                                             chain_type_kwargs={\"prompt\":prompt}\n",
    "                                             )"
   ]
  },
  {
   "cell_type": "code",
   "execution_count": 25,
   "metadata": {},
   "outputs": [
    {
     "data": {
      "text/plain": [
       "{'question': 'What are the total number of firms that will apply for certification by the end of January 2025 ?',\n",
       " 'answer': 'According to the provided context, the government expects 23 more firms to apply for the certification by the end of September 2023, in addition to the 6 firms that have already applied (including Tata Motors and Mahindra). There is no information provided about the total number of firms that will apply for certification by the end of January 2025.',\n",
       " 'sources': '',\n",
       " 'source_documents': [Document(metadata={'source': 'https://www.moneycontrol.com/news/business/tata-motors-mahindra-gain-certificates-for-production-linked-payouts-11281691.html', 'pk': 453134843223799679}, page_content='Apart from Tata Motors and Mahindra, four other companies have applied for certification which is crucial for receiving the incentives, the government said, without naming the companies.\\n\\nThe government also said it expects 23 more firms to apply for the certification by the end of September.'),\n",
       "  Document(metadata={'source': 'https://www.moneycontrol.com/news/business/tata-motors-mahindra-gain-certificates-for-production-linked-payouts-11281691.html', 'pk': 453134843223799674}, page_content=\"Launched in 2020, India's $24 billion production-linked incentive programme covers 14 sectors, ranging from electronic products to autos, and is crucial to boosting jobs in manufacturing, an area where India has struggled.\\n\\nReuters\\n\\nAugust 30, 2023 / 11:04 IST\")]}"
      ]
     },
     "execution_count": 25,
     "metadata": {},
     "output_type": "execute_result"
    }
   ],
   "source": [
    "question = \"What are the total number of firms that will apply for certification by the end of January 2025 ?\"\n",
    "chain(question)"
   ]
  },
  {
   "cell_type": "code",
   "execution_count": 31,
   "metadata": {},
   "outputs": [],
   "source": [
    "langchain.debug=False"
   ]
  },
  {
   "cell_type": "code",
   "execution_count": null,
   "metadata": {},
   "outputs": [],
   "source": []
  }
 ],
 "metadata": {
  "kernelspec": {
   "display_name": "genai-EqR",
   "language": "python",
   "name": "python3"
  },
  "language_info": {
   "codemirror_mode": {
    "name": "ipython",
    "version": 3
   },
   "file_extension": ".py",
   "mimetype": "text/x-python",
   "name": "python",
   "nbconvert_exporter": "python",
   "pygments_lexer": "ipython3",
   "version": "3.12.3"
  }
 },
 "nbformat": 4,
 "nbformat_minor": 2
}
